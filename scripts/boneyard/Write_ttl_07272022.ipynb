{
 "cells": [
  {
   "cell_type": "code",
   "execution_count": 12,
   "id": "d64020f7",
   "metadata": {},
   "outputs": [],
   "source": [
    "import pandas as pd\n",
    "import regex as re"
   ]
  },
  {
   "cell_type": "code",
   "execution_count": 13,
   "id": "74c5429b",
   "metadata": {},
   "outputs": [],
   "source": [
    "# Import AOP EC table data\n",
    "AOP_EC_table = pd.read_csv(\"../aop_ke_ec.csv\")\n",
    "\n",
    "#Set output file name\n",
    "outfile = \"../aop150_from_script.ttl\"\n"
   ]
  },
  {
   "cell_type": "code",
   "execution_count": 14,
   "id": "a930ca09",
   "metadata": {},
   "outputs": [],
   "source": [
    "AOP150 = AOP_EC_table[AOP_EC_table[\"AOP\"] == \"Aop:150\"]\n"
   ]
  },
  {
   "cell_type": "code",
   "execution_count": 15,
   "id": "ccd77448",
   "metadata": {},
   "outputs": [],
   "source": [
    "# write header \n",
    "header = '''@prefix : <http://www.semanticweb.org/mmandal/ontologies/2022/4/untitled-ontology-76#> .\n",
    "@prefix owl: <http://www.w3.org/2002/07/owl#> .\n",
    "@prefix rdf: <http://www.w3.org/1999/02/22-rdf-syntax-ns#> .\n",
    "@prefix xml: <http://www.w3.org/XML/1998/namespace> .\n",
    "@prefix xsd: <http://www.w3.org/2001/XMLSchema#> .\n",
    "@prefix rdfs: <http://www.w3.org/2000/01/rdf-schema#> .\n",
    "@base <http://www.w3.org/2002/07/owl#> .\n",
    "\n",
    "[ rdf:type owl:Ontology ;\n",
    "   owl:imports <http://purl.obolibrary.org/obo/go/releases/2022-01-13/go.owl> ,\n",
    "               <http://purl.obolibrary.org/obo/ro/releases/2022-01-20/ro.owl>\n",
    " ] .\n",
    "'''\n",
    "\n",
    "with open(outfile, \"w+\") as f:\n",
    "    f.write(header)"
   ]
  },
  {
   "cell_type": "code",
   "execution_count": 16,
   "id": "dca68808",
   "metadata": {},
   "outputs": [
    {
     "ename": "IndentationError",
     "evalue": "expected an indented block (3749909078.py, line 26)",
     "output_type": "error",
     "traceback": [
      "\u001b[0;36m  File \u001b[0;32m\"/var/folders/_1/m998hf7d5l73x7js1x02cms186j552/T/ipykernel_96346/3749909078.py\"\u001b[0;36m, line \u001b[0;32m26\u001b[0m\n\u001b[0;31m    return \"RO_0000057\":\u001b[0m\n\u001b[0m    ^\u001b[0m\n\u001b[0;31mIndentationError\u001b[0m\u001b[0;31m:\u001b[0m expected an indented block\n"
     ]
    }
   ],
   "source": [
    "def process_term(input_id, name):\n",
    "    \"\"\"\n",
    "    Takes a term and id and returns ttl class and instance statements\n",
    "    \"\"\"\n",
    "    if \":\" in input_id:\n",
    "        input_id_str = f\"{input_id[:2]}_{input_id[3:]}\"\n",
    "    else:\n",
    "        input_id_str = input_id\n",
    "    name = re.sub(\" \", \"_\", name)\n",
    "    class_statement = f'''\\n###  http://purl.obolibrary.org/obo/{input_id_str}\\n\\t<http://purl.obolibrary.org/obo/{input_id_str}> rdf:type owl:Class .\\n\\n'''\n",
    "#         with open(outfile, \"a\") as f:\n",
    "#             f.write(class_statement)\n",
    "    instance_statement = f'''###  http://www.co-ode.org/ontologies/ont.owl#{name}\\n<http://www.co-ode.org/ontologies/ont.owl#{name}> rdf:type owl:NamedIndividual ,\\n\\t<http://purl.obolibrary.org/obo/{input_id_str}> '''\n",
    "#         with open(outfile, \"a\") as f:\n",
    "#             f.write(instance_statement)\n",
    "    return class_statement, instance_statement;\n",
    "\n",
    "def get_action_id(action):\n",
    "    if action == \"increased\":\n",
    "        return \"RO_0000057\"\n",
    "    elif action == \"decreased\":\n",
    "        return \"RO_0000058\"\n",
    "    else:\n",
    "        return \"\"\n",
    "\n",
    "def get_action_id_steps(step1_ao, step1_source, step2_ao, step2_source):\n",
    "    if step1_source == \"GO\" and step2_source == \"GO\":\n",
    "        if action == \"reduced\":\n",
    "        return \"RO_0000057\":\n",
    "    elif action == \"decreased\":\n",
    "        return \"RO_0000058\"\n",
    "    else:\n",
    "        return \"\"\n",
    "    \n",
    "def add_action(action, obj_name, proc_phen_name):\n",
    "    action_id = get_action_id(action)\n",
    "    proc_phen_name = re.sub(\" \", \"_\", proc_phen_name)\n",
    "    if action_id != \"\":\n",
    "        action_statement = f\";\\n\\t<http://purl.obolibrary.org/obo/{action_id}> <http://www.co-ode.org/ontologies/ont.owl#{proc_phen_name}> \"\n",
    "        return(action_statement)\n",
    "    else:\n",
    "        return(\"\")"
   ]
  },
  {
   "cell_type": "code",
   "execution_count": null,
   "id": "fa0d413e",
   "metadata": {},
   "outputs": [],
   "source": [
    "classes = {}\n",
    "instances = {}\n",
    "steps = {}\n",
    "for index, row in AOP150.iterrows():\n",
    "    row = row.rename(lambda x: re.sub(\"[\\s\\/]\", \"_\", x.lower()))\n",
    "    if row.object_id not in classes.keys() and not pd.isna(row.object_id):\n",
    "        class_statement, instance_statement = process_term(row.object_id, row.object_term)\n",
    "        classes[row.object_id] = class_statement\n",
    "        instances[row.object_id] = instance_statement\n",
    "    if row.process_phenotype_id not in instances.keys() and not pd.isna(row.process_phenotype_id):\n",
    "        class_statement, instance_statement = process_term(row.process_phenotype_id, row.process_phenotype_term)\n",
    "        classes[row.process_phenotype_id] = class_statement\n",
    "        instances[row.process_phenotype_id] = instance_statement\n",
    "    action_statement = add_action(row.action,row.object_term, row.process_phenotype_id)\n",
    "    if not pd.isna(row.object_id):\n",
    "        instances[row.object_id] += action_statement\n",
    "    step = int(row.step)\n",
    "    if step in steps.keys():\n",
    "        steps[step] = steps[step] + [(row.adverse_outcome, row.process_phenotype_source, row.process_phenotype_id)]\n",
    "    else:\n",
    "        steps[step] = [(row.adverse_outcome, row.process_phenotype_source, row.process_phenotype_id)]\n",
    "for step in range(2,max(steps.keys())+1):\n",
    "    for step1_item in list(set(steps[step-1])):\n",
    "        for step2_item in list(set(steps[step])):\n",
    "            step1_ao, step1_source, pp_id_1 = step1_item\n",
    "            step2_ao, step2_source, pp_id_2 = step2_item\n",
    "            action_statement = add_action(step1_ao, step1_source, step2_ao, step2_source)\n",
    "            \n",
    "for c, s in classes.items():\n",
    "    with open(outfile, \"a\") as f:\n",
    "            f.write(s)\n",
    "for i, s in instances.items():\n",
    "    with open(outfile, \"a\") as f:\n",
    "            f.write(s + \".\\n\\n\")\n"
   ]
  },
  {
   "cell_type": "code",
   "execution_count": null,
   "id": "45c14f60",
   "metadata": {},
   "outputs": [],
   "source": []
  },
  {
   "cell_type": "code",
   "execution_count": null,
   "id": "a186d72e",
   "metadata": {},
   "outputs": [],
   "source": []
  },
  {
   "cell_type": "code",
   "execution_count": null,
   "id": "68f9d241",
   "metadata": {},
   "outputs": [],
   "source": []
  },
  {
   "cell_type": "code",
   "execution_count": null,
   "id": "91532375",
   "metadata": {},
   "outputs": [],
   "source": []
  }
 ],
 "metadata": {
  "kernelspec": {
   "display_name": "Python 3 (ipykernel)",
   "language": "python",
   "name": "python3"
  },
  "language_info": {
   "codemirror_mode": {
    "name": "ipython",
    "version": 3
   },
   "file_extension": ".py",
   "mimetype": "text/x-python",
   "name": "python",
   "nbconvert_exporter": "python",
   "pygments_lexer": "ipython3",
   "version": "3.9.10"
  }
 },
 "nbformat": 4,
 "nbformat_minor": 5
}
