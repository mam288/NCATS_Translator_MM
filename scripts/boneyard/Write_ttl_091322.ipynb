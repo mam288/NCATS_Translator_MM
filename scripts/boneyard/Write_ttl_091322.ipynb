{
 "cells": [
  {
   "cell_type": "code",
   "execution_count": 38,
   "id": "d64020f7",
   "metadata": {
    "pycharm": {
     "name": "#%%\n"
    }
   },
   "outputs": [],
   "source": [
    "import pandas as pd\n",
    "import regex as re"
   ]
  },
  {
   "cell_type": "code",
   "execution_count": 39,
   "id": "74c5429b",
   "metadata": {
    "pycharm": {
     "name": "#%%\n"
    }
   },
   "outputs": [
    {
     "name": "stdout",
     "output_type": "stream",
     "text": [
      "6\n"
     ]
    }
   ],
   "source": [
    "# Import AOP EC table data\n",
    "AOP_EC_table = pd.read_csv(\"../aop_ke_ec.csv\")\n",
    "# AOP_EC_table = pd.read_csv(\"../aop150_ke_ec.csv\")\n",
    "\n",
    "AOP_num = 6\n",
    "\n",
    "#Set output file name\n",
    "outfile = f\"../aop{AOP_num}_from_script.ttl\"\n",
    "print(AOP_num)"
   ]
  },
  {
   "cell_type": "code",
   "execution_count": null,
   "outputs": [],
   "source": [
    "import os\n",
    "def prepend_line(file_name, line):\n",
    "    \"\"\" Insert given string as a new line at the beginning of a file \"\"\"\n",
    "    # define name of temporary dummy file\n",
    "    dummy_file = file_name + '.bak'\n",
    "    # open original file in read mode and dummy file in write mode\n",
    "    with open(file_name, 'r') as read_obj, open(dummy_file, 'w') as write_obj:\n",
    "        # Write given line to the dummy file\n",
    "        write_obj.write(line + '\\n')\n",
    "        # Read lines from original file one by one and append them to the dummy file\n",
    "        for line in read_obj:\n",
    "            write_obj.write(line)\n",
    "    # remove original file\n",
    "    os.remove(file_name)\n",
    "    # Rename dummy file as the original file\n",
    "    os.rename(dummy_file, file_name)"
   ],
   "metadata": {
    "collapsed": false,
    "pycharm": {
     "name": "#%%\n"
    }
   }
  },
  {
   "cell_type": "code",
   "execution_count": 40,
   "id": "a930ca09",
   "metadata": {
    "pycharm": {
     "name": "#%%\n"
    }
   },
   "outputs": [],
   "source": [
    "# AOP150 = AOP_EC_table[AOP_EC_table[\"aop\"] == \"Aop:150\"]\n",
    "AOP = AOP_EC_table[AOP_EC_table[\"AOP\"] == f\"Aop:{AOP_num}\"]\n",
    "# AOP150 = AOP_EC_table[AOP_EC_table[\"aop\"] == \"Aop:23\"]"
   ]
  },
  {
   "cell_type": "code",
   "execution_count": 41,
   "id": "ccd77448",
   "metadata": {
    "pycharm": {
     "name": "#%%\n"
    }
   },
   "outputs": [],
   "source": [
    "# write header \n",
    "header = '''@prefix : <http://www.semanticweb.org/mmandal/ontologies/2022/4/untitled-ontology-76#> .\n",
    "@prefix owl: <http://www.w3.org/2002/07/owl#> .\n",
    "@prefix rdf: <http://www.w3.org/1999/02/22-rdf-syntax-ns#> .\n",
    "@prefix xml: <http://www.w3.org/XML/1998/namespace> .\n",
    "@prefix xsd: <http://www.w3.org/2001/XMLSchema#> .\n",
    "@prefix rdfs: <http://www.w3.org/2000/01/rdf-schema#> .\n",
    "@base <http://www.w3.org/2002/07/owl#> .\n",
    "\n",
    "[ rdf:type owl:Ontology ;\n",
    "   owl:imports <http://purl.obolibrary.org/obo/go/releases/2022-01-13/go.owl> ,\n",
    "               <http://purl.obolibrary.org/obo/ro/releases/2022-01-20/ro.owl>\n",
    " ] .\n",
    "'''\n",
    "\n",
    "with open(outfile, \"w+\") as f:\n",
    "    f.write(header)"
   ]
  },
  {
   "cell_type": "code",
   "execution_count": 42,
   "id": "dca68808",
   "metadata": {
    "pycharm": {
     "name": "#%%\n"
    }
   },
   "outputs": [],
   "source": [
    "def process_term(input_id, name):\n",
    "    \"\"\"\n",
    "    Takes a term and id and returns ttl class and instance statements\n",
    "    \"\"\"\n",
    "    if \":\" in input_id:\n",
    "        input_id_str = f\"{input_id[:2]}_{input_id[3:]}\"\n",
    "    else:\n",
    "        input_id_str = input_id\n",
    "    name = re.sub(\" \", \"_\", name)\n",
    "    class_statement = f'''\\n###  http://purl.obolibrary.org/obo/{input_id_str}\\n\\t<http://purl.obolibrary.org/obo/{input_id_str}> rdf:type owl:Class .\\n\\n'''\n",
    "    instance_statement = f'''###  http://www.co-ode.org/ontologies/ont.owl#{name}\\n<http://www.co-ode.org/ontologies/ont.owl#{name}> rdf:type owl:NamedIndividual ,\\n\\t<http://purl.obolibrary.org/obo/{input_id_str}> '''\n",
    "\n",
    "    return class_statement, instance_statement;\n",
    "\n",
    "# def get_action_id(action):\n",
    "#     \"\"\"\n",
    "#     Takes an action word and returns an RO relationship ID\n",
    "#     simplified version\n",
    "#     \"\"\"\n",
    "#     if action == \"increased\":\n",
    "#         return \"RO_0000057\"\n",
    "#     elif action == \"decreased\":\n",
    "#         return \"RO_0000058\"\n",
    "#     else:\n",
    "#         return \"\"\n",
    "\n",
    "def get_action_id (act,  source_1, id_1, term_1, source_2, id_2, term_2):\n",
    "#     if act == \"\": # step action\n",
    "#     else: # row action\n",
    "        \n",
    "    if act == \"increased\":\n",
    "        return \"RO_0000057\"\n",
    "    else:\n",
    "        return \"RO_0000058\"\n",
    "\n",
    "    \n",
    "\n",
    "def add_action(act, source_1, id_1, term_1, source_2, id_2, term_2, outfile):\n",
    "    action_id = get_action_id(act, source_1, id_1, term_1, source_2, id_2, term_2)\n",
    "    row = f\"{act},{action_id},{source_1},{id_1},{term_1},{source_2},{id_2},{term_2}\\n\"\n",
    "    with open(outfile, \"a\") as f:\n",
    "            f.write(row)\n",
    "    if act != \"\":\n",
    "        action_statement = f\";\\n\\t<http://purl.obolibrary.org/obo/{action_id}> <http://www.co-ode.org/ontologies/ont.owl#{term_2}> \"\n",
    "        return(action_statement)\n",
    "    else:\n",
    "        return(\"\")\n"
   ]
  },
  {
   "cell_type": "code",
   "execution_count": 43,
   "id": "fa0d413e",
   "metadata": {
    "pycharm": {
     "name": "#%%\n"
    }
   },
   "outputs": [],
   "source": [
    "classes = {}\n",
    "instances = {}\n",
    "steps = {}\n",
    "# Cycle through rows and create classes and instances\n",
    "outfile_csv = f\"../outfile_09122022_AOP{AOP_num}.csv\"\n",
    "with open(outfile_csv, \"w+\") as f:\n",
    "            f.write(f\"action,action_id,source_1,id_1,term_1,source_2,id_2,term_2\\n\")\n",
    "\n",
    "for index, row in AOP.iterrows():\n",
    "    row = row.rename(lambda x: re.sub(\"[\\s\\/]\", \"_\", x.lower()))\n",
    "    \n",
    "    # if object_id is not already in classes.keys() add object_id\n",
    "    if row.object_id not in classes.keys() and not pd.isna(row.object_id):\n",
    "        class_statement, instance_statement = process_term(row.object_id, row.object_term)\n",
    "        classes[row.object_id] = class_statement\n",
    "        instances[row.object_id] = instance_statement\n",
    "        \n",
    "    # if process_phenotype_id is not already in instances.keys() add process_phenotype_id\n",
    "    if row.process_phenotype_id not in instances.keys() and not pd.isna(row.process_phenotype_id):\n",
    "        class_statement, instance_statement = process_term(row.process_phenotype_id, row.process_phenotype_term)\n",
    "        classes[row.process_phenotype_id] = class_statement\n",
    "        instances[row.process_phenotype_id] = instance_statement\n",
    "    \n",
    "    row_action_statement = add_action(row.action, row.object_source, row.object_id ,row.object_term, row.process_phenotype_source, row.process_phenotype_id,\n",
    "                                      row.process_phenotype_term, outfile_csv)\n",
    "#     instances[row.process_phenotype_id] = instances[row.process_phenotype_id] + row_action_statement\n",
    "#     if index != 0:\n",
    "#         step_action_statement = add_action(\"\", AOP150.iloc[index-1]['process_phenotype_source'], \n",
    "#                                            AOP150.iloc[index-1]['process_phenotype_id'], \n",
    "#                                            AOP150.iloc[index-1]['process_phenotype_term'], \n",
    "#                                            row.process_phenotype_source, row.process_phenotype_id, \n",
    "#                                            row.process_phenotype_term)\n",
    "#         instances[row.process_phenotype_id] = instances[row.process_phenotype_id] + step_action_statement\n",
    "    \n",
    "    \n",
    "    \n",
    "          \n",
    "with open(outfile, \"a\") as f:\n",
    "            f.write(\"\\n\\n#################################################################\")     \n",
    "            f.write(\"\\n#   Classes\")  \n",
    "            f.write(\"\\n#################################################################\\n\\n\")  \n",
    "for c, s in classes.items():\n",
    "    with open(outfile, \"a\") as f:\n",
    "            f.write(s)\n",
    "with open(outfile, \"a\") as f:\n",
    "            f.write(\"\\n\\n#################################################################\")     \n",
    "            f.write(\"\\n#   Instances\")  \n",
    "            f.write(\"\\n#################################################################\\n\\n\")  \n",
    "for i, s in instances.items():\n",
    "    with open(outfile, \"a\") as f:\n",
    "            f.write(s + \".\\n\\n\")\n"
   ]
  },
  {
   "cell_type": "code",
   "execution_count": 44,
   "id": "45c14f60",
   "metadata": {
    "pycharm": {
     "name": "#%%\n"
    }
   },
   "outputs": [],
   "source": [
    "# print(AOP.iloc[0])\n",
    "# import os\n",
    "# print(os.getcwd())"
   ]
  },
  {
   "cell_type": "code",
   "execution_count": 44,
   "id": "a186d72e",
   "metadata": {
    "pycharm": {
     "name": "#%%\n"
    }
   },
   "outputs": [],
   "source": []
  },
  {
   "cell_type": "code",
   "execution_count": 44,
   "id": "68f9d241",
   "metadata": {
    "pycharm": {
     "name": "#%%\n"
    }
   },
   "outputs": [],
   "source": []
  },
  {
   "cell_type": "code",
   "execution_count": 44,
   "id": "91532375",
   "metadata": {
    "pycharm": {
     "name": "#%%\n"
    }
   },
   "outputs": [],
   "source": []
  }
 ],
 "metadata": {
  "kernelspec": {
   "display_name": "Python 3 (ipykernel)",
   "language": "python",
   "name": "python3"
  },
  "language_info": {
   "codemirror_mode": {
    "name": "ipython",
    "version": 3
   },
   "file_extension": ".py",
   "mimetype": "text/x-python",
   "name": "python",
   "nbconvert_exporter": "python",
   "pygments_lexer": "ipython3",
   "version": "3.9.10"
  }
 },
 "nbformat": 4,
 "nbformat_minor": 5
}