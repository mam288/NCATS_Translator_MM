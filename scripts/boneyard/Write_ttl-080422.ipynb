{
 "cells": [
  {
   "cell_type": "code",
   "execution_count": 98,
   "id": "d64020f7",
   "metadata": {
    "pycharm": {
     "name": "#%%\n"
    }
   },
   "outputs": [],
   "source": [
    "import pandas as pd\n",
    "import regex as re"
   ]
  },
  {
   "cell_type": "code",
   "execution_count": 99,
   "id": "74c5429b",
   "metadata": {
    "pycharm": {
     "name": "#%%\n"
    }
   },
   "outputs": [],
   "source": [
    "# Import AOP EC table data\n",
    "# AOP_EC_table = pd.read_csv(\"../aop_ke_ec.csv\")\n",
    "AOP_EC_table = pd.read_csv(\"../aop_150_ke_ec.csv\")\n",
    "\n",
    "#Set output file name\n",
    "outfile = \"../aop150_from_script.ttl\"\n"
   ]
  },
  {
   "cell_type": "code",
   "execution_count": 100,
   "id": "a930ca09",
   "metadata": {
    "pycharm": {
     "name": "#%%\n"
    }
   },
   "outputs": [],
   "source": [
    "AOP150 = AOP_EC_table[AOP_EC_table[\"AOP\"] == \"Aop:150\"]\n"
   ]
  },
  {
   "cell_type": "code",
   "execution_count": 101,
   "id": "ccd77448",
   "metadata": {
    "pycharm": {
     "name": "#%%\n"
    }
   },
   "outputs": [],
   "source": [
    "# write header \n",
    "header = '''@prefix : <http://www.semanticweb.org/mmandal/ontologies/2022/4/untitled-ontology-76#> .\n",
    "@prefix owl: <http://www.w3.org/2002/07/owl#> .\n",
    "@prefix rdf: <http://www.w3.org/1999/02/22-rdf-syntax-ns#> .\n",
    "@prefix xml: <http://www.w3.org/XML/1998/namespace> .\n",
    "@prefix xsd: <http://www.w3.org/2001/XMLSchema#> .\n",
    "@prefix rdfs: <http://www.w3.org/2000/01/rdf-schema#> .\n",
    "@base <http://www.w3.org/2002/07/owl#> .\n",
    "\n",
    "[ rdf:type owl:Ontology ;\n",
    "   owl:imports <http://purl.obolibrary.org/obo/go/releases/2022-01-13/go.owl> ,\n",
    "               <http://purl.obolibrary.org/obo/ro/releases/2022-01-20/ro.owl>\n",
    " ] .\n",
    "'''\n",
    "\n",
    "with open(outfile, \"w+\") as f:\n",
    "    f.write(header)"
   ]
  },
  {
   "cell_type": "code",
   "execution_count": 102,
   "id": "dca68808",
   "metadata": {
    "pycharm": {
     "name": "#%%\n"
    }
   },
   "outputs": [],
   "source": [
    "def process_term(input_id, name):\n",
    "    \"\"\"\n",
    "    Takes a term and id and returns ttl class and instance statements\n",
    "    \"\"\"\n",
    "    if \":\" in input_id:\n",
    "        input_id_str = f\"{input_id[:2]}_{input_id[3:]}\"\n",
    "    else:\n",
    "        input_id_str = input_id\n",
    "    name = re.sub(\" \", \"_\", name)\n",
    "    class_statement = f'''\\n###  http://purl.obolibrary.org/obo/{input_id_str}\\n\\t<http://purl.obolibrary.org/obo/{input_id_str}> rdf:type owl:Class .\\n\\n'''\n",
    "    instance_statement = f'''###  http://www.co-ode.org/ontologies/ont.owl#{name}\\n<http://www.co-ode.org/ontologies/ont.owl#{name}> rdf:type owl:NamedIndividual ,\\n\\t<http://purl.obolibrary.org/obo/{input_id_str}> '''\n",
    "\n",
    "    return class_statement, instance_statement;\n",
    "\n",
    "def get_action_id(action):\n",
    "    \"\"\"\n",
    "    Takes an action word and returns an RO relationship ID\n",
    "    simplified version\n",
    "    \"\"\"\n",
    "    if action == \"increased\":\n",
    "        return \"RO_0000057\"\n",
    "    elif action == \"decreased\":\n",
    "        return \"RO_0000058\"\n",
    "    else:\n",
    "        return \"\"\n",
    "\n",
    "def get_action_id (act,  source_1, id_1, term_1, source_2, id_2, term_2):\n",
    "#     if act == \"\": # step action\n",
    "#     else: # row action\n",
    "        \n",
    "    if act == \"increased\":\n",
    "        return \"RO_0000057\"\n",
    "    else:\n",
    "        return \"RO_0000058\"\n",
    "\n",
    "    \n",
    "def get_action_id_steps(act, source_1, id_1, term_1, source_2, id_2, term_2):\n",
    "    print(act, source_1, id_1, term_1, source_2, id_2, term_2)\n",
    "    return \"RO_0000057\"\n",
    "#     if step1_source == \"GO\" and step2_source == \"GO\":\n",
    "#         if action == \"reduced\":\n",
    "#             return \"RO_0000057\"\n",
    "#     elif action == \"decreased\":\n",
    "#         return \"RO_0000058\"\n",
    "#     else:\n",
    "#         return \"\"\n",
    "    \n",
    "def add_action(act, source_1, id_1, term_1, source_2, id_2, term_2):\n",
    "    action_id = get_action_id_steps(act, source_1, id_1, term_1, source_2, id_2, term_2)\n",
    "        \n",
    "    if action_id != \"\":\n",
    "        action_statement = f\";\\n\\t<http://purl.obolibrary.org/obo/{action_id}> <http://www.co-ode.org/ontologies/ont.owl#{term_2}> \"\n",
    "        return(action_statement)\n",
    "    else:\n",
    "        return(\"\")\n",
    "\n",
    "    \n",
    "# def add_action(action, obj_name, proc_phen_name):\n",
    "def add_step_action(step1_ao, step1_source, step2_ao, step2_source, pp_term_1, pp_term_2):\n",
    "\n",
    "#     action_id = get_action_id(action)\n",
    "    action_id = get_action_id_steps(step1_ao, step1_source, step2_ao, step2_source)\n",
    "#     proc_phen_name = re.sub(\" \", \"_\", proc_phen_name)\n",
    "    if action_id != \"\":\n",
    "        action_statement = f\";\\n\\t<http://purl.obolibrary.org/obo/{action_id}> <http://www.co-ode.org/ontologies/ont.owl#{pp2_term}> \"\n",
    "        return(action_statement)\n",
    "    else:\n",
    "        return(\"\")"
   ]
  },
  {
   "cell_type": "code",
   "execution_count": 103,
   "id": "fa0d413e",
   "metadata": {
    "pycharm": {
     "name": "#%%\n"
    }
   },
   "outputs": [
    {
     "name": "stdout",
     "output_type": "stream",
     "text": [
      "{1: [('increased', 'GO', 'GO:0004874', 'aryl hydrocarbon receptor activity', 'PR:000003858', 'PR', 'aryl hydrocarbon receptor')], 2: [('increased', 'GO', 'GO:0046983', 'protein dimerization activity', 'PR:000003858', 'PR', 'aryl hydrocarbon receptor'), ('increased', 'GO', 'GO:0046983', 'protein dimerization activity', 'PR:000004303', 'PR', 'aryl hydrocarbon receptor nuclear translocator')], 3: [('decreased', 'GO', 'GO:0046983', 'protein dimerization activity', 'PR:000008555', 'PR', 'hypoxia-inducible factor 1-alpha'), ('decreased', 'GO', 'GO:0046983', 'protein dimerization activity', 'PR:000004303', 'PR', 'aryl hydrocarbon receptor nuclear translocator')], 5: [('abnormal', 'GO', 'GO:0003158', 'endothelium development', nan, nan, nan)], 6: [('morphological change', 'MP', 'MP:0001544', 'abnormal cardiovascular system physiology', nan, nan, nan), ('abnormal', 'GO', 'GO:0072358', 'cardiovascular system development', 'UBERON:0004535', 'UBERON', 'cardiovascular system')], 7: [('increased', 'MP', 'MP:0008762', 'embryonic lethality', nan, nan, nan), ('increased', 'MESH', 'D009026', 'mortality', nan, nan, nan)], 4: [('decreased', 'GO', 'GO:0010467', 'gene expression', 'PR:000017284', 'PR', 'vascular endothelial growth factor A'), ('decreased', 'MP', 'MP:0008469', 'abnormal protein level', 'PR:000017284', 'PR', 'vascular endothelial growth factor A')]}\n",
      "increased GO GO:0004874 aryl hydrocarbon receptor activity PR:000003858 PR aryl hydrocarbon receptor\n",
      " GO GO:0004874 aryl hydrocarbon receptor activity GO GO:0046983 protein dimerization activity\n",
      " GO GO:0004874 aryl hydrocarbon receptor activity GO GO:0046983 protein dimerization activity\n",
      "increased GO GO:0046983 protein dimerization activity PR:000003858 PR aryl hydrocarbon receptor\n",
      " GO GO:0046983 protein dimerization activity GO GO:0046983 protein dimerization activity\n",
      " GO GO:0046983 protein dimerization activity GO GO:0046983 protein dimerization activity\n",
      "increased GO GO:0046983 protein dimerization activity PR:000004303 PR aryl hydrocarbon receptor nuclear translocator\n",
      " GO GO:0046983 protein dimerization activity GO GO:0046983 protein dimerization activity\n",
      " GO GO:0046983 protein dimerization activity GO GO:0046983 protein dimerization activity\n",
      "decreased GO GO:0046983 protein dimerization activity PR:000008555 PR hypoxia-inducible factor 1-alpha\n",
      " GO GO:0046983 protein dimerization activity GO GO:0010467 gene expression\n",
      " GO GO:0046983 protein dimerization activity MP MP:0008469 abnormal protein level\n",
      "decreased GO GO:0046983 protein dimerization activity PR:000004303 PR aryl hydrocarbon receptor nuclear translocator\n",
      " GO GO:0046983 protein dimerization activity GO GO:0010467 gene expression\n",
      " GO GO:0046983 protein dimerization activity MP MP:0008469 abnormal protein level\n",
      "decreased GO GO:0010467 gene expression PR:000017284 PR vascular endothelial growth factor A\n",
      " GO GO:0010467 gene expression GO GO:0003158 endothelium development\n",
      "decreased MP MP:0008469 abnormal protein level PR:000017284 PR vascular endothelial growth factor A\n",
      " MP MP:0008469 abnormal protein level GO GO:0003158 endothelium development\n",
      " GO GO:0003158 endothelium development MP MP:0001544 abnormal cardiovascular system physiology\n",
      " GO GO:0003158 endothelium development GO GO:0072358 cardiovascular system development\n",
      " MP MP:0001544 abnormal cardiovascular system physiology MP MP:0008762 embryonic lethality\n",
      " MP MP:0001544 abnormal cardiovascular system physiology MESH D009026 mortality\n",
      "abnormal GO GO:0072358 cardiovascular system development UBERON:0004535 UBERON cardiovascular system\n",
      " GO GO:0072358 cardiovascular system development MP MP:0008762 embryonic lethality\n",
      " GO GO:0072358 cardiovascular system development MESH D009026 mortality\n"
     ]
    }
   ],
   "source": [
    "classes = {}\n",
    "instances = {}\n",
    "steps = {}\n",
    "# Cycle through rows and create classes and instances\n",
    "for index, row in AOP150.iterrows():\n",
    "    row = row.rename(lambda x: re.sub(\"[\\s\\/]\", \"_\", x.lower()))\n",
    "    \n",
    "    # if object_id is not already in classes.keys() add object_id\n",
    "    if row.object_id not in classes.keys() and not pd.isna(row.object_id):\n",
    "        class_statement, instance_statement = process_term(row.object_id, row.object_term)\n",
    "        classes[row.object_id] = class_statement\n",
    "        instances[row.object_id] = instance_statement\n",
    "        \n",
    "    # if process_phenotype_id is not already in instances.keys() add process_phenotype_id\n",
    "    if row.process_phenotype_id not in instances.keys() and not pd.isna(row.process_phenotype_id):\n",
    "        class_statement, instance_statement = process_term(row.process_phenotype_id, row.process_phenotype_term)\n",
    "        classes[row.process_phenotype_id] = class_statement\n",
    "        instances[row.process_phenotype_id] = instance_statement\n",
    "    step = int(row.step)\n",
    "    if step in steps.keys():\n",
    "        steps[step] = steps[step] + [(row.action, row.process_phenotype_source, row.process_phenotype_id, row.process_phenotype_term, row.object_id, row.object_source, row.object_term)]\n",
    "    else:\n",
    "        steps[step] = [(row.action, row.process_phenotype_source, row.process_phenotype_id, row.process_phenotype_term, row.object_id, row.object_source, row.object_term)]\n",
    "#     steps[step] = [(row.action, row.process_phenotype_source, row.process_phenotype_id, row.process_phenotype_term, row.object_id, row.object_source, row.object_term)]\n",
    "print(steps)\n",
    "for step in range(1,max(steps.keys())+1):\n",
    "    for step1_item in (steps[step]):\n",
    "        act_1, prph_source_1, prph_id_1,prph_term_1, obj_id_1, obj_source_1, obj_term_1 = step1_item\n",
    "        if not pd.isna(obj_id_1):\n",
    "                action_statement = add_action(act_1, prph_source_1, prph_id_1,prph_term_1, obj_id_1, obj_source_1, obj_term_1)\n",
    "                instances[prph_id_1] = instances[prph_id_1] + action_statement\n",
    "        if step>= max(steps.keys()):\n",
    "            continue\n",
    "        for step2_item in (steps[step+1]):\n",
    "            act_2, prph_source_2, prph_id_2,prph_term_2, obj_id_2, obj_source_2, obj_term_2 = step2_item\n",
    "            action_statement = add_action(\"\", prph_source_1, prph_id_1,prph_term_1, prph_source_2, prph_id_2,prph_term_2)\n",
    "            instances[prph_id_1] = instances[prph_id_1] + action_statement\n",
    "# print(steps)            \n",
    "with open(outfile, \"a\") as f:\n",
    "            f.write(\"\\n\\n#################################################################\")     \n",
    "            f.write(\"\\n#   Classes\")  \n",
    "            f.write(\"\\n#################################################################\\n\\n\")  \n",
    "for c, s in classes.items():\n",
    "    with open(outfile, \"a\") as f:\n",
    "            f.write(s)\n",
    "with open(outfile, \"a\") as f:\n",
    "            f.write(\"\\n\\n#################################################################\")     \n",
    "            f.write(\"\\n#   Instances\")  \n",
    "            f.write(\"\\n#################################################################\\n\\n\")  \n",
    "for i, s in instances.items():\n",
    "    with open(outfile, \"a\") as f:\n",
    "            f.write(s + \".\\n\\n\")\n"
   ]
  },
  {
   "cell_type": "code",
   "execution_count": null,
   "id": "45c14f60",
   "metadata": {
    "pycharm": {
     "name": "#%%\n"
    }
   },
   "outputs": [],
   "source": []
  },
  {
   "cell_type": "code",
   "execution_count": null,
   "id": "a186d72e",
   "metadata": {
    "pycharm": {
     "name": "#%%\n"
    }
   },
   "outputs": [],
   "source": []
  },
  {
   "cell_type": "code",
   "execution_count": null,
   "id": "68f9d241",
   "metadata": {
    "pycharm": {
     "name": "#%%\n"
    }
   },
   "outputs": [],
   "source": []
  },
  {
   "cell_type": "code",
   "execution_count": null,
   "id": "91532375",
   "metadata": {
    "pycharm": {
     "name": "#%%\n"
    }
   },
   "outputs": [],
   "source": []
  }
 ],
 "metadata": {
  "kernelspec": {
   "display_name": "Python 3 (ipykernel)",
   "language": "python",
   "name": "python3"
  },
  "language_info": {
   "codemirror_mode": {
    "name": "ipython",
    "version": 3
   },
   "file_extension": ".py",
   "mimetype": "text/x-python",
   "name": "python",
   "nbconvert_exporter": "python",
   "pygments_lexer": "ipython3",
   "version": "3.9.10"
  }
 },
 "nbformat": 4,
 "nbformat_minor": 5
}